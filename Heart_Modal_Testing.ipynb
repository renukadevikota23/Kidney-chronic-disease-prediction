{
  "nbformat": 4,
  "nbformat_minor": 0,
  "metadata": {
    "colab": {
      "provenance": []
    },
    "kernelspec": {
      "name": "python3",
      "display_name": "Python 3"
    },
    "language_info": {
      "name": "python"
    }
  },
  "cells": [
    {
      "cell_type": "code",
      "execution_count": null,
      "metadata": {
        "id": "E55AyrIRL39z"
      },
      "outputs": [],
      "source": [
        "labels=[]"
      ]
    },
    {
      "cell_type": "code",
      "source": [
        "labels='age\tsex\tcp\ttrestbps\trestecg\tthalach\texang\toldpeak\tslope\tca\tthal\ttarget'.split()\n",
        "labels"
      ],
      "metadata": {
        "colab": {
          "base_uri": "https://localhost:8080/"
        },
        "id": "rTisRl9BNJd1",
        "outputId": "1f56976a-6318-4d54-965f-1e08639889ed"
      },
      "execution_count": null,
      "outputs": [
        {
          "output_type": "execute_result",
          "data": {
            "text/plain": [
              "['age',\n",
              " 'sex',\n",
              " 'cp',\n",
              " 'trestbps',\n",
              " 'restecg',\n",
              " 'thalach',\n",
              " 'exang',\n",
              " 'oldpeak',\n",
              " 'slope',\n",
              " 'ca',\n",
              " 'thal',\n",
              " 'target']"
            ]
          },
          "metadata": {},
          "execution_count": 4
        }
      ]
    },
    {
      "cell_type": "code",
      "source": [
        "input_data = []\n",
        "for lable in labels:\n",
        "  input_data.append(float(input(lable+':')))\n",
        "input_data"
      ],
      "metadata": {
        "colab": {
          "base_uri": "https://localhost:8080/"
        },
        "id": "_dmKg-99NThG",
        "outputId": "c22a72db-56c5-4632-a5bd-291ef98c5a16"
      },
      "execution_count": null,
      "outputs": [
        {
          "name": "stdout",
          "output_type": "stream",
          "text": [
            "age:23\n",
            "sex:1\n",
            "cp:1\n",
            "trestbps:1\n",
            "restecg:1\n",
            "thalach:1\n",
            "exang:1\n",
            "oldpeak:1\n",
            "slope:1\n",
            "ca:1\n",
            "thal:1\n",
            "target:1\n"
          ]
        },
        {
          "output_type": "execute_result",
          "data": {
            "text/plain": [
              "[23.0, 1.0, 1.0, 1.0, 1.0, 1.0, 1.0, 1.0, 1.0, 1.0, 1.0, 1.0]"
            ]
          },
          "metadata": {},
          "execution_count": 5
        }
      ]
    },
    {
      "cell_type": "code",
      "source": [
        "from keras.models import load_model\n",
        "import numpy as np\n",
        "\n",
        "model = load_model('/content/heart (1).h5')\n",
        "\n",
        "input_array = np.array([input_data])\n",
        "result = model.predict(input_array)\n",
        "\n",
        "if result > 0.5:\n",
        "  print('you will have the heart disease')\n",
        "else:\n",
        "  print('you are safe')\n",
        "\n"
      ],
      "metadata": {
        "colab": {
          "base_uri": "https://localhost:8080/"
        },
        "id": "awUaxTUYNs00",
        "outputId": "97ad3da2-f0c7-4fa8-d029-26693a4a4035"
      },
      "execution_count": null,
      "outputs": [
        {
          "output_type": "stream",
          "name": "stderr",
          "text": [
            "WARNING:absl:Compiled the loaded model, but the compiled metrics have yet to be built. `model.compile_metrics` will be empty until you train or evaluate the model.\n"
          ]
        },
        {
          "output_type": "stream",
          "name": "stdout",
          "text": [
            "\u001b[1m1/1\u001b[0m \u001b[32m━━━━━━━━━━━━━━━━━━━━\u001b[0m\u001b[37m\u001b[0m \u001b[1m0s\u001b[0m 74ms/step\n",
            "you will have the heart disease\n"
          ]
        }
      ]
    },
    {
      "cell_type": "code",
      "source": [],
      "metadata": {
        "id": "QCm52zPAX4W7"
      },
      "execution_count": null,
      "outputs": []
    }
  ]
}